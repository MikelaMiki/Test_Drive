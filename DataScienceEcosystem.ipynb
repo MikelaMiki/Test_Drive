{
 "cells": [
  {
   "cell_type": "markdown",
   "id": "b6212d64-6657-4481-83c9-503abc8c37c0",
   "metadata": {},
   "source": [
    "# Data Science Tools and Ecosystem"
   ]
  },
  {
   "cell_type": "markdown",
   "id": "02962beb-3043-49ff-ae0e-36fe91fe7fb0",
   "metadata": {},
   "source": [
    "In this notebook, Data Science Tools and Ecosystem are summarized."
   ]
  },
  {
   "cell_type": "markdown",
   "id": "2396278e-d70d-4c92-a004-4e468ad7b4e5",
   "metadata": {},
   "source": [
    "**Objectives:**\n",
    "- List popular languages for data science\n",
    "- List some commonly used libraries for data science\n",
    "- List some data science tools\n",
    "- Cover some basic arithmetic functions using Python3"
   ]
  },
  {
   "cell_type": "markdown",
   "id": "a0b04fc4-61af-48c6-9112-196dbb85177c",
   "metadata": {},
   "source": [
    "Some of the popular languages that Data Scientists use are:\n",
    "1. Python\n",
    "2. R\n",
    "3. SQL"
   ]
  },
  {
   "cell_type": "markdown",
   "id": "b7d13f5e-d590-4827-8b13-d722d3cd18b1",
   "metadata": {},
   "source": [
    "Some of the commonly used libraries used by Data Scientists include:\n",
    "1. Matplotlib\n",
    "2. Pandas\n",
    "3. SciPy"
   ]
  },
  {
   "cell_type": "markdown",
   "id": "b4824ad5-49d8-4082-8fe4-54ec04042a20",
   "metadata": {},
   "source": [
    "|Data Science Tools|\n",
    "|------------------|\n",
    "|Jupyter Notebook|\n",
    "|Apache Spark|\n",
    "|RStudio|"
   ]
  },
  {
   "cell_type": "markdown",
   "id": "175bb59b-fa9a-43a1-9c68-2f5503c1bb12",
   "metadata": {},
   "source": [
    "### Below are a few examples of evaluating arithmetic expressions in Python"
   ]
  },
  {
   "cell_type": "code",
   "execution_count": 1,
   "id": "17d969ee-9746-48d6-b591-d76ff078cef9",
   "metadata": {},
   "outputs": [
    {
     "data": {
      "text/plain": [
       "17"
      ]
     },
     "execution_count": 1,
     "metadata": {},
     "output_type": "execute_result"
    }
   ],
   "source": [
    "# This a simple arithmetic expression to mutiply then add integers\n",
    "(3*4) + 5"
   ]
  },
  {
   "cell_type": "code",
   "execution_count": 2,
   "id": "bd94080f-1170-41c8-8907-e8e5e94d6c7c",
   "metadata": {},
   "outputs": [
    {
     "data": {
      "text/plain": [
       "3.3333333333333335"
      ]
     },
     "execution_count": 2,
     "metadata": {},
     "output_type": "execute_result"
    }
   ],
   "source": [
    "# This will convert 200 minutes to hours by diving by 60\n",
    "200/60"
   ]
  },
  {
   "cell_type": "markdown",
   "id": "96dc3ecc-dea7-41dd-9f10-305e36f181f9",
   "metadata": {},
   "source": [
    "## Author\n",
    "Mikela Daphne Loizou Manske"
   ]
  }
 ],
 "metadata": {
  "kernelspec": {
   "display_name": "Python 3 (ipykernel)",
   "language": "python",
   "name": "python3"
  },
  "language_info": {
   "codemirror_mode": {
    "name": "ipython",
    "version": 3
   },
   "file_extension": ".py",
   "mimetype": "text/x-python",
   "name": "python",
   "nbconvert_exporter": "python",
   "pygments_lexer": "ipython3",
   "version": "3.10.12"
  }
 },
 "nbformat": 4,
 "nbformat_minor": 5
}
